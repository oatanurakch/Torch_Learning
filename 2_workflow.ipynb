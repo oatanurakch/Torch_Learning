{
 "cells": [
  {
   "attachments": {},
   "cell_type": "markdown",
   "metadata": {},
   "source": [
    "# Pytorch Workflow "
   ]
  },
  {
   "cell_type": "code",
   "execution_count": 1,
   "metadata": {},
   "outputs": [
    {
     "data": {
      "text/plain": [
       "{1: 'data (prepare and load)',\n",
       " 2: 'data (explore and clean)',\n",
       " 3: 'Fitting the model',\n",
       " 4: 'Making predictions and evaluating the model',\n",
       " 5: 'Saving and load model',\n",
       " 6: 'Puting it all together'}"
      ]
     },
     "execution_count": 1,
     "metadata": {},
     "output_type": "execute_result"
    }
   ],
   "source": [
    "what_were_convering = {1 : 'data (prepare and load)',\n",
    "                       2 : 'data (explore and clean)',\n",
    "                       3 : 'Fitting the model',\n",
    "                       4 : 'Making predictions and evaluating the model',\n",
    "                       5 : 'Saving and load model',\n",
    "                       6 : 'Puting it all together'\n",
    "                       }\n",
    "what_were_convering"
   ]
  },
  {
   "cell_type": "code",
   "execution_count": 2,
   "metadata": {},
   "outputs": [
    {
     "name": "stdout",
     "output_type": "stream",
     "text": [
      "2.0.0\n"
     ]
    }
   ],
   "source": [
    "import torch\n",
    "from torch import nn # nn contain all of PyTorch's builind blocks for neural networks https://pytorch.org/docs/stable/nn.html\n",
    "import matplotlib.pyplot as plt\n",
    "\n",
    "# Check PyTorch Version\n",
    "print(torch.__version__)"
   ]
  },
  {
   "attachments": {},
   "cell_type": "markdown",
   "metadata": {},
   "source": [
    "### 1. Data (Preparing and Loading)\n",
    "\n",
    "Data can be almost anything . . . in machine learning\n",
    "\n",
    "* Excel spreadsheets\n",
    "* Images of any kind\n",
    "* Videos \n",
    "* Audio like songs or podcasts\n",
    "* DNA\n",
    "* Text\n",
    "\n",
    "Machine learning is a game of two parts:\n",
    "1. Gets data into a numerical format\n",
    "2. Build a model to learn pattern in that numerical representation\n",
    "\n",
    "To show case this, let's create some *know* data using linear regression formula."
   ]
  },
  {
   "cell_type": "code",
   "execution_count": 3,
   "metadata": {},
   "outputs": [
    {
     "name": "stdout",
     "output_type": "stream",
     "text": [
      "tensor([[0.0000],\n",
      "        [0.0200],\n",
      "        [0.0400],\n",
      "        [0.0600],\n",
      "        [0.0800],\n",
      "        [0.1000],\n",
      "        [0.1200],\n",
      "        [0.1400],\n",
      "        [0.1600],\n",
      "        [0.1800]])\n",
      "tensor([[0.3000],\n",
      "        [0.3140],\n",
      "        [0.3280],\n",
      "        [0.3420],\n",
      "        [0.3560],\n",
      "        [0.3700],\n",
      "        [0.3840],\n",
      "        [0.3980],\n",
      "        [0.4120],\n",
      "        [0.4260]])\n"
     ]
    }
   ],
   "source": [
    "# Create *know* parameters\n",
    "weights = 0.7\n",
    "bias = 0.3\n",
    "\n",
    "# Create \n",
    "start = 0\n",
    "end = 1\n",
    "step = 0.02\n",
    "\n",
    "X = torch.arange(start, end, step).unsqueeze(dim = 1)\n",
    "y = weights * X + bias\n",
    "\n",
    "print(X[:10])\n",
    "print(y[:10])"
   ]
  },
  {
   "cell_type": "code",
   "execution_count": 4,
   "metadata": {},
   "outputs": [
    {
     "name": "stdout",
     "output_type": "stream",
     "text": [
      "torch.Size([50, 1]) torch.Size([50, 1])\n"
     ]
    }
   ],
   "source": [
    "print(X.shape, y.shape)"
   ]
  },
  {
   "attachments": {},
   "cell_type": "markdown",
   "metadata": {},
   "source": [
    "### Splitting data into training and test set (one of most important concepts in machine learning general) "
   ]
  },
  {
   "cell_type": "code",
   "execution_count": 5,
   "metadata": {},
   "outputs": [
    {
     "name": "stdout",
     "output_type": "stream",
     "text": [
      "40 40\n",
      "10 10\n"
     ]
    }
   ],
   "source": [
    "# Create train/test split\n",
    "train_split = int(0.8 * len(X)) # 80% of data\n",
    "X_train, y_train = X[:train_split], y[:train_split]\n",
    "X_test, y_test = X[train_split:], y[train_split:]\n",
    "print(len(X_train), len(y_train))\n",
    "print(len(X_test), len(y_test))"
   ]
  },
  {
   "attachments": {},
   "cell_type": "markdown",
   "metadata": {},
   "source": [
    "How might we better visualize our data ? <br>\n",
    "This is where the data explorer's motto comes in ! <br>\n",
    "\"Visualize, visualize, visualize!\""
   ]
  },
  {
   "cell_type": "code",
   "execution_count": 6,
   "metadata": {},
   "outputs": [],
   "source": [
    "def plot_prediction(train_data = X_train,\n",
    "                    train_labels = y_train,\n",
    "                    test_data = X_test,\n",
    "                    test_labels = y_test,\n",
    "                    predictions = None):\n",
    "    \"\"\"Plots training data, test data and compares predictions.\"\"\"\n",
    "\n",
    "    plt.figure(figsize = (10, 7))\n",
    "\n",
    "    # Plot training data in blue\n",
    "    plt.scatter(train_data, train_labels, c = 'b', s = 4, label = \"Training data\")\n",
    "\n",
    "    # Plot test data in green\n",
    "    plt.scatter(test_data, test_labels, c = 'g', s = 4, label = \"Testing data\")\n",
    "\n",
    "    # Are there prediction ?\n",
    "    if predictions is not None:\n",
    "        # Plot the prediction in they exist\n",
    "        plt.scatter(test_data, predictions, c = 'r', s = 4, label = \"Predictions\")\n",
    "\n",
    "    # Show the legend\n",
    "    plt.legend(prop = {\"size\" : 14})\n"
   ]
  },
  {
   "cell_type": "code",
   "execution_count": 7,
   "metadata": {},
   "outputs": [
    {
     "data": {
      "image/png": "[encoded data removed]",
      "text/plain": [
       "<Figure size 1000x700 with 1 Axes>"
      ]
     },
     "metadata": {},
     "output_type": "display_data"
    }
   ],
   "source": [
    "plot_prediction()"
   ]
  },
  {
   "attachments": {},
   "cell_type": "markdown",
   "metadata": {},
   "source": [
    "## 2. Build model\n",
    "\n",
    "Our first PyTorch model !\n",
    "\n",
    "What our model does:\n",
    "* Start with random values (weights & bias)\n",
    "* Look at training data and adjust the random values to better represent ( or get closer to ) the ideal values (the weights & bias values we used to create the data)\n",
    "\n",
    "How does it do so ?\n",
    "Through two main algorithm:\n",
    "1. Gradient descent\n",
    "2. Backpropagation"
   ]
  },
  {
   "cell_type": "code",
   "execution_count": 8,
   "metadata": {},
   "outputs": [],
   "source": [
    "# Create Linear Regression Model\n",
    "class LinearRegressionModel(nn.Module): # -< All everythings in PyTorch are inherited from nn.Module\n",
    "    def __init__(self):\n",
    "        super().__init__()\n",
    "        # Initial model parameters\n",
    "        self.weights = nn.Parameter(torch.randn(1, # start with random weights\n",
    "                                                requires_grad = True, # update via gradient descent\n",
    "                                                dtype = torch.float)) # data type is float\n",
    "        self.bias = nn.Parameter(torch.randn(1, \n",
    "                                             requires_grad = True, \n",
    "                                             dtype = torch.float))\n",
    "    # Forward method to define the computation in the model\n",
    "    def forward(self, x: torch.Tensor) -> torch.Tensor: # <- \"x\" is the input data\n",
    "        return self.weights * x + self.bias # this is linear regression formula"
   ]
  },
  {
   "attachments": {},
   "cell_type": "markdown",
   "metadata": {},
   "source": [
    "### PyTorch model building essentials\n",
    "* torch.nn - contain all of the buildings for computational graphs (a neural network can be considered a computational graph)\n",
    "* torch.nn.Parameter - what parameters should our model try and learn, often a PyTorch layer from torch.nn will set these for us\n",
    "* torch.nn.Module - The base class for all neural network modules, if you subclass it, you should overwrite forward()\n",
    "* torch.optim - this where the optimizers in PyTorch live, they will help with gradient descent. The optimizer we'll use is called Adam (a common and effective optimizer)\n",
    "* def forward() - All nn.Module subclasses required you to overwrite forward(), this method defined what happens in the forward computation, i.e. how the model passes inputs to outputs.\n",
    "\n",
    "Torch CheatSheet -> https://pytorch.org/tutorials/beginner/ptcheat.html"
   ]
  },
  {
   "attachments": {},
   "cell_type": "markdown",
   "metadata": {},
   "source": [
    "Check our model parameters or what's inside our model using .parameters() method"
   ]
  },
  {
   "cell_type": "code",
   "execution_count": 9,
   "metadata": {},
   "outputs": [
    {
     "data": {
      "text/plain": [
       "[Parameter containing:\n",
       " tensor([0.3367], requires_grad=True),\n",
       " Parameter containing:\n",
       " tensor([0.1288], requires_grad=True)]"
      ]
     },
     "execution_count": 9,
     "metadata": {},
     "output_type": "execute_result"
    }
   ],
   "source": [
    "# Create a random seed\n",
    "torch.manual_seed(42)\n",
    "\n",
    "# Create an instance of the model (this is subclss of nn.Module)\n",
    "model_0 = LinearRegressionModel()\n",
    "\n",
    "# Chech out the parameter\n",
    "list(model_0.parameters())"
   ]
  },
  {
   "cell_type": "code",
   "execution_count": 10,
   "metadata": {},
   "outputs": [
    {
     "data": {
      "text/plain": [
       "OrderedDict([('weights', tensor([0.3367])), ('bias', tensor([0.1288]))])"
      ]
     },
     "execution_count": 10,
     "metadata": {},
     "output_type": "execute_result"
    }
   ],
   "source": [
    "# List named parameters\n",
    "model_0.state_dict()"
   ]
  },
  {
   "attachments": {},
   "cell_type": "markdown",
   "metadata": {},
   "source": [
    "### Making prediction using `torch.inference_mode()`\n",
    "\n",
    "To check our model's predictive power, let's see how well it predicts `y_test` based on `X_test`.\n",
    "\n",
    "When we pass data through our model, it's going to run it through the forward() method."
   ]
  },
  {
   "cell_type": "code",
   "execution_count": 11,
   "metadata": {},
   "outputs": [
    {
     "data": {
      "text/plain": [
       "tensor([[0.3982],\n",
       "        [0.4049],\n",
       "        [0.4116],\n",
       "        [0.4184],\n",
       "        [0.4251],\n",
       "        [0.4318],\n",
       "        [0.4386],\n",
       "        [0.4453],\n",
       "        [0.4520],\n",
       "        [0.4588]])"
      ]
     },
     "execution_count": 11,
     "metadata": {},
     "output_type": "execute_result"
    }
   ],
   "source": [
    "# Make predictions with model\n",
    "with torch.inference_mode():\n",
    "    y_pred = model_0(X_test)\n",
    "\n",
    "y_pred"
   ]
  },
  {
   "cell_type": "code",
   "execution_count": 12,
   "metadata": {},
   "outputs": [
    {
     "data": {
      "text/plain": [
       "tensor([[0.8600],\n",
       "        [0.8740],\n",
       "        [0.8880],\n",
       "        [0.9020],\n",
       "        [0.9160],\n",
       "        [0.9300],\n",
       "        [0.9440],\n",
       "        [0.9580],\n",
       "        [0.9720],\n",
       "        [0.9860]])"
      ]
     },
     "execution_count": 12,
     "metadata": {},
     "output_type": "execute_result"
    }
   ],
   "source": [
    "y_test"
   ]
  },
  {
   "cell_type": "code",
   "execution_count": 13,
   "metadata": {},
   "outputs": [
    {
     "data": {
      "image/png": "[encoded data removed]",
      "text/plain": [
       "<Figure size 1000x700 with 1 Axes>"
      ]
     },
     "metadata": {},
     "output_type": "display_data"
    }
   ],
   "source": [
    "plot_prediction(predictions = y_pred)"
   ]
  },
  {
   "attachments": {},
   "cell_type": "markdown",
   "metadata": {},
   "source": [
    "### 3. Train model\n",
    "\n",
    "The whole idea of training is for a model to move from some *unknow* parameters (these may be random) to some *know* parameters\n",
    "\n",
    "Or in other words from a poor representation of the data to a better representation of data.\n",
    "\n",
    "One way measure how poor or how wrong your models predictions are is to use a loss function.\n",
    "\n",
    "* Note: Loss function may also be called cost function or criterion in different areas. For our cases, we're going to refer to it as a loss function.\n",
    "\n",
    "* **Loss function:** A function to measure how wrong your model's predictions are to the ideal outputs, lower is better. <br>\n",
    "More information: https://pytorch.org/docs/stable/nn.html#loss-functions\n",
    "\n",
    "* **Optimizer:** Takes into account the loss of a model and adjust the model's parameters (e.g. weights, bias) <br>\n",
    "More information : https://pytorch.org/docs/stable/optim.html"
   ]
  },
  {
   "cell_type": "code",
   "execution_count": 14,
   "metadata": {},
   "outputs": [
    {
     "data": {
      "text/plain": [
       "[Parameter containing:\n",
       " tensor([0.3367], requires_grad=True),\n",
       " Parameter containing:\n",
       " tensor([0.1288], requires_grad=True)]"
      ]
     },
     "execution_count": 14,
     "metadata": {},
     "output_type": "execute_result"
    }
   ],
   "source": [
    "list(model_0.parameters())"
   ]
  },
  {
   "cell_type": "code",
   "execution_count": 15,
   "metadata": {},
   "outputs": [
    {
     "data": {
      "text/plain": [
       "OrderedDict([('weights', tensor([0.3367])), ('bias', tensor([0.1288]))])"
      ]
     },
     "execution_count": 15,
     "metadata": {},
     "output_type": "execute_result"
    }
   ],
   "source": [
    "model_0.state_dict()"
   ]
  },
  {
   "attachments": {},
   "cell_type": "markdown",
   "metadata": {},
   "source": [
    "#### Note:\n",
    "* Loss function used for measure how wrong of predict data and actual data\n",
    "* Optimize fuction used for adjust our model parameter "
   ]
  },
  {
   "cell_type": "code",
   "execution_count": 16,
   "metadata": {},
   "outputs": [],
   "source": [
    "# Setup a loss function\n",
    "loss_fn = nn.L1Loss()\n",
    "\n",
    "# Setup a optimize function\n",
    "optimizer = torch.optim.SGD(params = model_0.parameters(), lr = 0.01)"
   ]
  },
  {
   "attachments": {},
   "cell_type": "markdown",
   "metadata": {},
   "source": [
    "### Building a training loop and a testing loop in PyTorch\n",
    "\n",
    "A couple of things we need in a training loop:\n",
    "0. Loop through the data\n",
    "1. Forward pass (this involve data moving through our model's forward() functions) to make prediction on data - also called forward propagation\n",
    "2. Calculate the loss (Compare forward pass prediction to ground truth labels)\n",
    "3. Optimize zero grad\n",
    "4. Loss backward - move backwards through the network to calculate the gradients of each of the parameters of our model with respect to the loss (**Backpropagation**)\n",
    "5. Optimizer step - Use the optimizer to adjust our model's parameters to try and improve the loss (**Gradient Descent**)\n"
   ]
  },
  {
   "cell_type": "code",
   "execution_count": 17,
   "metadata": {},
   "outputs": [
    {
     "name": "stdout",
     "output_type": "stream",
     "text": [
      "Before training: OrderedDict([('weights', tensor([0.3367])), ('bias', tensor([0.1288]))])\n"
     ]
    }
   ],
   "source": [
    "# Before training\n",
    "print(f'Before training: {model_0.state_dict()}')"
   ]
  },
  {
   "cell_type": "code",
   "execution_count": 18,
   "metadata": {},
   "outputs": [
    {
     "name": "stdout",
     "output_type": "stream",
     "text": [
      "Epochs 0 | Loss : 0.31288138031959534 | Test loss: 0.48106518387794495\n",
      "Epochs 1 | Loss : 0.3013603389263153 | Test loss: 0.4675942063331604\n",
      "Epochs 2 | Loss : 0.28983935713768005 | Test loss: 0.4541231691837311\n",
      "Epochs 3 | Loss : 0.2783183455467224 | Test loss: 0.44065219163894653\n",
      "Epochs 4 | Loss : 0.26679736375808716 | Test loss: 0.4271811842918396\n",
      "Epochs 5 | Loss : 0.2552763521671295 | Test loss: 0.41371020674705505\n",
      "Epochs 6 | Loss : 0.24375534057617188 | Test loss: 0.40023916959762573\n",
      "Epochs 7 | Loss : 0.23223432898521423 | Test loss: 0.3867681920528412\n",
      "Epochs 8 | Loss : 0.22071333229541779 | Test loss: 0.37329721450805664\n",
      "Epochs 9 | Loss : 0.20919232070446014 | Test loss: 0.3598262071609497\n",
      "Epochs 10 | Loss : 0.1976713240146637 | Test loss: 0.3463551998138428\n",
      "Epochs 11 | Loss : 0.18615034222602844 | Test loss: 0.3328842222690582\n",
      "Epochs 12 | Loss : 0.1746293306350708 | Test loss: 0.3194132149219513\n",
      "Epochs 13 | Loss : 0.16310831904411316 | Test loss: 0.30594223737716675\n",
      "Epochs 14 | Loss : 0.1515873372554779 | Test loss: 0.2924712300300598\n",
      "Epochs 15 | Loss : 0.14006635546684265 | Test loss: 0.27900025248527527\n",
      "Epochs 16 | Loss : 0.1285453587770462 | Test loss: 0.2655292749404907\n",
      "Epochs 17 | Loss : 0.11702437698841095 | Test loss: 0.2520582973957062\n",
      "Epochs 18 | Loss : 0.1060912236571312 | Test loss: 0.2395961582660675\n",
      "Epochs 19 | Loss : 0.09681284427642822 | Test loss: 0.22817862033843994\n",
      "Epochs 20 | Loss : 0.08908725529909134 | Test loss: 0.21729660034179688\n",
      "Epochs 21 | Loss : 0.08227583020925522 | Test loss: 0.2069590985774994\n",
      "Epochs 22 | Loss : 0.07638873159885406 | Test loss: 0.19773726165294647\n",
      "Epochs 23 | Loss : 0.07160007208585739 | Test loss: 0.1890866756439209\n",
      "Epochs 24 | Loss : 0.06747635453939438 | Test loss: 0.18101617693901062\n",
      "Epochs 25 | Loss : 0.06395438313484192 | Test loss: 0.17353470623493195\n",
      "Epochs 26 | Loss : 0.06097004935145378 | Test loss: 0.16665108501911163\n",
      "Epochs 27 | Loss : 0.05845819041132927 | Test loss: 0.16037428379058838\n",
      "Epochs 28 | Loss : 0.05635259300470352 | Test loss: 0.15471318364143372\n",
      "Epochs 29 | Loss : 0.0545857772231102 | Test loss: 0.14967669546604156\n",
      "Epochs 30 | Loss : 0.053148526698350906 | Test loss: 0.14464017748832703\n",
      "Epochs 31 | Loss : 0.05181945487856865 | Test loss: 0.14023718237876892\n",
      "Epochs 32 | Loss : 0.05069301277399063 | Test loss: 0.13647659122943878\n",
      "Epochs 33 | Loss : 0.0498228520154953 | Test loss: 0.13271598517894745\n",
      "Epochs 34 | Loss : 0.04895269125699997 | Test loss: 0.12895536422729492\n",
      "Epochs 35 | Loss : 0.04819351062178612 | Test loss: 0.12584610283374786\n",
      "Epochs 36 | Loss : 0.047531817108392715 | Test loss: 0.12273679673671722\n",
      "Epochs 37 | Loss : 0.04692792519927025 | Test loss: 0.1202877014875412\n",
      "Epochs 38 | Loss : 0.04642331600189209 | Test loss: 0.11783860623836517\n",
      "Epochs 39 | Loss : 0.04591871052980423 | Test loss: 0.11538954079151154\n",
      "Epochs 40 | Loss : 0.04543796554207802 | Test loss: 0.11360953003168106\n",
      "Epochs 41 | Loss : 0.04503796249628067 | Test loss: 0.11182951927185059\n",
      "Epochs 42 | Loss : 0.04463795945048332 | Test loss: 0.1100495308637619\n",
      "Epochs 43 | Loss : 0.04423796385526657 | Test loss: 0.10826952755451202\n",
      "Epochs 44 | Loss : 0.04383796453475952 | Test loss: 0.10648951679468155\n",
      "Epochs 45 | Loss : 0.04343796148896217 | Test loss: 0.10470950603485107\n",
      "Epochs 46 | Loss : 0.043074630200862885 | Test loss: 0.10360751301050186\n",
      "Epochs 47 | Loss : 0.04272563382983208 | Test loss: 0.10250549018383026\n",
      "Epochs 48 | Loss : 0.04237663000822067 | Test loss: 0.10140349715948105\n",
      "Epochs 49 | Loss : 0.04202762991189957 | Test loss: 0.10030148178339005\n",
      "Epochs 50 | Loss : 0.04167863354086876 | Test loss: 0.09919948130846024\n",
      "Epochs 51 | Loss : 0.04132963344454765 | Test loss: 0.09809747338294983\n",
      "Epochs 52 | Loss : 0.04098063334822655 | Test loss: 0.09699545800685883\n",
      "Epochs 53 | Loss : 0.04063162952661514 | Test loss: 0.09589345753192902\n",
      "Epochs 54 | Loss : 0.040282636880874634 | Test loss: 0.0947914719581604\n",
      "Epochs 55 | Loss : 0.039933640509843826 | Test loss: 0.09368947893381119\n",
      "Epochs 56 | Loss : 0.03958464413881302 | Test loss: 0.09258746355772018\n",
      "Epochs 57 | Loss : 0.03923564404249191 | Test loss: 0.09148545563220978\n",
      "Epochs 58 | Loss : 0.03888664394617081 | Test loss: 0.09038344770669937\n",
      "Epochs 59 | Loss : 0.0385376438498497 | Test loss: 0.08928143978118896\n",
      "Epochs 60 | Loss : 0.03818932920694351 | Test loss: 0.08886633068323135\n",
      "Epochs 61 | Loss : 0.03785243630409241 | Test loss: 0.08776430785655975\n",
      "Epochs 62 | Loss : 0.0375034399330616 | Test loss: 0.08666229248046875\n",
      "Epochs 63 | Loss : 0.037164121866226196 | Test loss: 0.08624717593193054\n",
      "Epochs 64 | Loss : 0.03681822493672371 | Test loss: 0.08514519035816193\n",
      "Epochs 65 | Loss : 0.03647511452436447 | Test loss: 0.08473004400730133\n",
      "Epochs 66 | Loss : 0.03613303601741791 | Test loss: 0.08362803608179092\n",
      "Epochs 67 | Loss : 0.03578609973192215 | Test loss: 0.08321291208267212\n",
      "Epochs 68 | Loss : 0.03544783592224121 | Test loss: 0.08211090415716171\n",
      "Epochs 69 | Loss : 0.035098835825920105 | Test loss: 0.0810088962316513\n",
      "Epochs 70 | Loss : 0.03476089984178543 | Test loss: 0.0805937647819519\n",
      "Epochs 71 | Loss : 0.03441363573074341 | Test loss: 0.0794917643070221\n",
      "Epochs 72 | Loss : 0.03407188132405281 | Test loss: 0.07907666265964508\n",
      "Epochs 73 | Loss : 0.03372843936085701 | Test loss: 0.07797462493181229\n",
      "Epochs 74 | Loss : 0.03338287025690079 | Test loss: 0.07755951583385468\n",
      "Epochs 75 | Loss : 0.033043231815099716 | Test loss: 0.07645749300718307\n",
      "Epochs 76 | Loss : 0.03269423171877861 | Test loss: 0.07535548508167267\n",
      "Epochs 77 | Loss : 0.032357655465602875 | Test loss: 0.07494036853313446\n",
      "Epochs 78 | Loss : 0.03200903534889221 | Test loss: 0.07383836805820465\n",
      "Epochs 79 | Loss : 0.03166864812374115 | Test loss: 0.07342323660850525\n",
      "Epochs 80 | Loss : 0.03132382780313492 | Test loss: 0.07232122868299484\n",
      "Epochs 81 | Loss : 0.030979642644524574 | Test loss: 0.07190609723329544\n",
      "Epochs 82 | Loss : 0.030638623982667923 | Test loss: 0.07080408930778503\n",
      "Epochs 83 | Loss : 0.0302906334400177 | Test loss: 0.07038896530866623\n",
      "Epochs 84 | Loss : 0.029953425750136375 | Test loss: 0.06928696483373642\n",
      "Epochs 85 | Loss : 0.02960442565381527 | Test loss: 0.06818496435880661\n",
      "Epochs 86 | Loss : 0.029265418648719788 | Test loss: 0.0677698403596878\n",
      "Epochs 87 | Loss : 0.028919223695993423 | Test loss: 0.0666678324341774\n",
      "Epochs 88 | Loss : 0.028576409444212914 | Test loss: 0.066252700984478\n",
      "Epochs 89 | Loss : 0.028234025463461876 | Test loss: 0.06515069305896759\n",
      "Epochs 90 | Loss : 0.02788739837706089 | Test loss: 0.06473556160926819\n",
      "Epochs 91 | Loss : 0.02754882536828518 | Test loss: 0.06363357603549957\n",
      "Epochs 92 | Loss : 0.027199819684028625 | Test loss: 0.06253156810998917\n",
      "Epochs 93 | Loss : 0.026862185448408127 | Test loss: 0.062116436660289764\n",
      "Epochs 94 | Loss : 0.02651461586356163 | Test loss: 0.061014432460069656\n",
      "Epochs 95 | Loss : 0.026173178106546402 | Test loss: 0.06059930846095085\n",
      "Epochs 96 | Loss : 0.025829419493675232 | Test loss: 0.05949730426073074\n",
      "Epochs 97 | Loss : 0.02548416517674923 | Test loss: 0.05908216908574104\n",
      "Epochs 98 | Loss : 0.025144213810563087 | Test loss: 0.057980168610811234\n",
      "Epochs 99 | Loss : 0.02479521557688713 | Test loss: 0.05687814950942993\n",
      "Epochs 100 | Loss : 0.024458957836031914 | Test loss: 0.05646304413676262\n",
      "Epochs 101 | Loss : 0.024110013619065285 | Test loss: 0.05536102131009102\n",
      "Epochs 102 | Loss : 0.02376994863152504 | Test loss: 0.05494590476155281\n",
      "Epochs 103 | Loss : 0.02342480979859829 | Test loss: 0.05384388566017151\n",
      "Epochs 104 | Loss : 0.023080935701727867 | Test loss: 0.0534287691116333\n",
      "Epochs 105 | Loss : 0.022739607840776443 | Test loss: 0.052326757460832596\n",
      "Epochs 106 | Loss : 0.022391926497220993 | Test loss: 0.05191164091229439\n",
      "Epochs 107 | Loss : 0.022054409608244896 | Test loss: 0.05080962926149368\n",
      "Epochs 108 | Loss : 0.02170540764927864 | Test loss: 0.049707621335983276\n",
      "Epochs 109 | Loss : 0.021366719156503677 | Test loss: 0.04929249361157417\n",
      "Epochs 110 | Loss : 0.021020207554101944 | Test loss: 0.04819049686193466\n",
      "Epochs 111 | Loss : 0.020677709951996803 | Test loss: 0.04777535796165466\n",
      "Epochs 112 | Loss : 0.02033500373363495 | Test loss: 0.046673357486724854\n",
      "Epochs 113 | Loss : 0.01998869702219963 | Test loss: 0.04625822976231575\n",
      "Epochs 114 | Loss : 0.019649803638458252 | Test loss: 0.045156221836805344\n",
      "Epochs 115 | Loss : 0.019300809130072594 | Test loss: 0.04405422881245613\n",
      "Epochs 116 | Loss : 0.018963487818837166 | Test loss: 0.04363910108804703\n",
      "Epochs 117 | Loss : 0.01861560344696045 | Test loss: 0.04253707453608513\n",
      "Epochs 118 | Loss : 0.018274478614330292 | Test loss: 0.042121969163417816\n",
      "Epochs 119 | Loss : 0.017930403351783752 | Test loss: 0.04101995751261711\n",
      "Epochs 120 | Loss : 0.01758546568453312 | Test loss: 0.04060482233762741\n",
      "Epochs 121 | Loss : 0.017245199531316757 | Test loss: 0.0395028181374073\n",
      "Epochs 122 | Loss : 0.016896454617381096 | Test loss: 0.0390876941382885\n",
      "Epochs 123 | Loss : 0.01656000316143036 | Test loss: 0.037985701113939285\n",
      "Epochs 124 | Loss : 0.016210997477173805 | Test loss: 0.03688368946313858\n",
      "Epochs 125 | Loss : 0.01587124727666378 | Test loss: 0.036468543112277985\n",
      "Epochs 126 | Loss : 0.015525798313319683 | Test loss: 0.035366542637348175\n",
      "Epochs 127 | Loss : 0.015182236209511757 | Test loss: 0.034951429814100266\n",
      "Epochs 128 | Loss : 0.014840595424175262 | Test loss: 0.03384942561388016\n",
      "Epochs 129 | Loss : 0.01449323259294033 | Test loss: 0.03343429043889046\n",
      "Epochs 130 | Loss : 0.014155393466353416 | Test loss: 0.03233227878808975\n",
      "Epochs 131 | Loss : 0.013806397095322609 | Test loss: 0.031230276450514793\n",
      "Epochs 132 | Loss : 0.013468016870319843 | Test loss: 0.030815154314041138\n",
      "Epochs 133 | Loss : 0.013121193274855614 | Test loss: 0.02971314825117588\n",
      "Epochs 134 | Loss : 0.01277900766581297 | Test loss: 0.02929801307618618\n",
      "Epochs 135 | Loss : 0.012435992248356342 | Test loss: 0.028196018189191818\n",
      "Epochs 136 | Loss : 0.01208999752998352 | Test loss: 0.027780896052718163\n",
      "Epochs 137 | Loss : 0.011750795878469944 | Test loss: 0.026678884401917458\n",
      "Epochs 138 | Loss : 0.011401787400245667 | Test loss: 0.025576870888471603\n",
      "Epochs 139 | Loss : 0.011064787395298481 | Test loss: 0.025161748751997948\n",
      "Epochs 140 | Loss : 0.010716589167714119 | Test loss: 0.024059748277068138\n",
      "Epochs 141 | Loss : 0.010375778190791607 | Test loss: 0.023644620552659035\n",
      "Epochs 142 | Loss : 0.010031387209892273 | Test loss: 0.022542614489793777\n",
      "Epochs 143 | Loss : 0.009686763398349285 | Test loss: 0.022127490490674973\n",
      "Epochs 144 | Loss : 0.009346187114715576 | Test loss: 0.021025484427809715\n",
      "Epochs 145 | Loss : 0.008997755125164986 | Test loss: 0.020610356703400612\n",
      "Epochs 146 | Loss : 0.008660981431603432 | Test loss: 0.019508343189954758\n",
      "Epochs 147 | Loss : 0.008311985060572624 | Test loss: 0.018406350165605545\n",
      "Epochs 148 | Loss : 0.007972544990479946 | Test loss: 0.017991220578551292\n",
      "Epochs 149 | Loss : 0.007626785431057215 | Test loss: 0.016889220103621483\n",
      "Epochs 150 | Loss : 0.0072835334576666355 | Test loss: 0.016474086791276932\n",
      "Epochs 151 | Loss : 0.006941580679267645 | Test loss: 0.0153720797970891\n",
      "Epochs 152 | Loss : 0.006594526115804911 | Test loss: 0.01495695672929287\n",
      "Epochs 153 | Loss : 0.006256377790123224 | Test loss: 0.013854950666427612\n",
      "Epochs 154 | Loss : 0.005907376762479544 | Test loss: 0.012752944603562355\n",
      "Epochs 155 | Loss : 0.005569315515458584 | Test loss: 0.012337815947830677\n",
      "Epochs 156 | Loss : 0.005222178064286709 | Test loss: 0.011235815472900867\n",
      "Epochs 157 | Loss : 0.004880306776612997 | Test loss: 0.010820692405104637\n",
      "Epochs 158 | Loss : 0.004536976106464863 | Test loss: 0.009718680754303932\n",
      "Epochs 159 | Loss : 0.00419129803776741 | Test loss: 0.009303552098572254\n",
      "Epochs 160 | Loss : 0.0038517764769494534 | Test loss: 0.008201557211577892\n",
      "Epochs 161 | Loss : 0.0035027749836444855 | Test loss: 0.007099539041519165\n",
      "Epochs 162 | Loss : 0.0031660839449614286 | Test loss: 0.006684416439384222\n",
      "Epochs 163 | Loss : 0.002817571861669421 | Test loss: 0.0055824099108576775\n",
      "Epochs 164 | Loss : 0.0024770735763013363 | Test loss: 0.005167287774384022\n",
      "Epochs 165 | Loss : 0.0021323717664927244 | Test loss: 0.004065275192260742\n",
      "Epochs 166 | Loss : 0.0017880648374557495 | Test loss: 0.003650152590125799\n",
      "Epochs 167 | Loss : 0.0014518328243866563 | Test loss: 0.0018701612716540694\n",
      "Epochs 168 | Loss : 0.0011887758737429976 | Test loss: 0.005023092031478882\n",
      "Epochs 169 | Loss : 0.0025885067880153656 | Test loss: 0.008447891101241112\n",
      "Epochs 170 | Loss : 0.008932482451200485 | Test loss: 0.005023092031478882\n",
      "Epochs 171 | Loss : 0.0025885067880153656 | Test loss: 0.008447891101241112\n",
      "Epochs 172 | Loss : 0.008932482451200485 | Test loss: 0.005023092031478882\n",
      "Epochs 173 | Loss : 0.0025885067880153656 | Test loss: 0.008447891101241112\n",
      "Epochs 174 | Loss : 0.008932482451200485 | Test loss: 0.005023092031478882\n",
      "Epochs 175 | Loss : 0.0025885067880153656 | Test loss: 0.008447891101241112\n",
      "Epochs 176 | Loss : 0.008932482451200485 | Test loss: 0.005023092031478882\n",
      "Epochs 177 | Loss : 0.0025885067880153656 | Test loss: 0.008447891101241112\n",
      "Epochs 178 | Loss : 0.008932482451200485 | Test loss: 0.005023092031478882\n",
      "Epochs 179 | Loss : 0.0025885067880153656 | Test loss: 0.008447891101241112\n",
      "Epochs 180 | Loss : 0.008932482451200485 | Test loss: 0.005023092031478882\n",
      "Epochs 181 | Loss : 0.0025885067880153656 | Test loss: 0.008447891101241112\n",
      "Epochs 182 | Loss : 0.008932482451200485 | Test loss: 0.005023092031478882\n",
      "Epochs 183 | Loss : 0.0025885067880153656 | Test loss: 0.008447891101241112\n",
      "Epochs 184 | Loss : 0.008932482451200485 | Test loss: 0.005023092031478882\n",
      "Epochs 185 | Loss : 0.0025885067880153656 | Test loss: 0.008447891101241112\n",
      "Epochs 186 | Loss : 0.008932482451200485 | Test loss: 0.005023092031478882\n",
      "Epochs 187 | Loss : 0.0025885067880153656 | Test loss: 0.008447891101241112\n",
      "Epochs 188 | Loss : 0.008932482451200485 | Test loss: 0.005023092031478882\n",
      "Epochs 189 | Loss : 0.0025885067880153656 | Test loss: 0.008447891101241112\n",
      "Epochs 190 | Loss : 0.008932482451200485 | Test loss: 0.005023092031478882\n",
      "Epochs 191 | Loss : 0.0025885067880153656 | Test loss: 0.008447891101241112\n",
      "Epochs 192 | Loss : 0.008932482451200485 | Test loss: 0.005023092031478882\n",
      "Epochs 193 | Loss : 0.0025885067880153656 | Test loss: 0.008447891101241112\n",
      "Epochs 194 | Loss : 0.008932482451200485 | Test loss: 0.005023092031478882\n",
      "Epochs 195 | Loss : 0.0025885067880153656 | Test loss: 0.008447891101241112\n",
      "Epochs 196 | Loss : 0.008932482451200485 | Test loss: 0.005023092031478882\n",
      "Epochs 197 | Loss : 0.0025885067880153656 | Test loss: 0.008447891101241112\n",
      "Epochs 198 | Loss : 0.008932482451200485 | Test loss: 0.005023092031478882\n",
      "Epochs 199 | Loss : 0.0025885067880153656 | Test loss: 0.008447891101241112\n",
      "Model: OrderedDict([('weights', tensor([0.6990])), ('bias', tensor([0.3093]))])\n"
     ]
    }
   ],
   "source": [
    "# Setup empty lists for keep track of model progress\n",
    "epoch_count = []\n",
    "train_lost_values = []\n",
    "test_loss_values = []\n",
    "\n",
    "# manual seed\n",
    "torch.manual_seed(42)\n",
    "\n",
    "epochs = 200 # this is hyperparameter because we've set it ourselves\n",
    "\n",
    "### Training \n",
    "# 0. Loop through data\n",
    "for epoch in range(epochs):\n",
    "    # set the model to training mode\n",
    "    model_0.train() # train mode in PyTorch sets all parameter that required gradients to require gradient\n",
    "\n",
    "    # 1. Forward pass\n",
    "    y_pred = model_0(X_train)\n",
    "\n",
    "    # 2. Calculate the loss\n",
    "    loss = loss_fn(y_pred, y_train)\n",
    "\n",
    "    # 3. Optimize zero grad\n",
    "    optimizer.zero_grad()\n",
    "\n",
    "    # 4. Perform backpropagation on the loss with respect to the parameters of the model\n",
    "    loss.backward()\n",
    "\n",
    "    # 5. Step the optimizer (perfrom gradient descent)\n",
    "    optimizer.step() # By default how the optimizer changes will acculumate through the loop so ... we have zero them above in step 3 for the next iteration of the\n",
    "\n",
    "    ### Testing\n",
    "    model_0.eval() # Turns off different settings in the model not needed for evaluation/testing (dropout/batch norm layers)\n",
    "    with torch.inference_mode(): # turn off gradient tracking & a couple more things behind the scenes\n",
    "        # 1. Do the forward pass\n",
    "        test_pred = model_0(X_test)\n",
    "\n",
    "        # 2. Calculate the loss\n",
    "        test_loss = loss_fn(test_pred, y_test)\n",
    "\n",
    "    # Append epochs, train loss and test loss into list\n",
    "    epoch_count.append(epoch)\n",
    "    train_lost_values.append(loss)\n",
    "    test_loss_values.append(test_loss)\n",
    "    print(f'Epochs {epoch} | Loss : {loss} | Test loss: {test_loss}')\n",
    "\n",
    "# Print model state dict\n",
    "print(f'Model: {model_0.state_dict()}')\n"
   ]
  },
  {
   "cell_type": "code",
   "execution_count": 19,
   "metadata": {},
   "outputs": [],
   "source": [
    "with torch.inference_mode():\n",
    "    y_pred_new = model_0(X_test)"
   ]
  },
  {
   "cell_type": "code",
   "execution_count": 20,
   "metadata": {},
   "outputs": [
    {
     "data": {
      "image/png": "[encoded data removed]",
      "text/plain": [
       "<Figure size 1000x700 with 1 Axes>"
      ]
     },
     "metadata": {},
     "output_type": "display_data"
    }
   ],
   "source": [
    "plot_prediction(predictions = y_pred_new)"
   ]
  },
  {
   "cell_type": "code",
   "execution_count": 21,
   "metadata": {},
   "outputs": [
    {
     "data": {
      "image/png": "[encoded data removed]",
      "text/plain": [
       "<Figure size 640x480 with 1 Axes>"
      ]
     },
     "metadata": {},
     "output_type": "display_data"
    }
   ],
   "source": [
    "import numpy as np \n",
    "# Plot the loss curve\n",
    "plt.plot(epoch_count, torch.tensor(train_lost_values).cpu().numpy(), label = 'Train loss')\n",
    "plt.plot(epoch_count, torch.tensor(test_loss_values).cpu().numpy(), label = 'Test loss')\n",
    "plt.title('Training and Test loss curves')\n",
    "plt.ylabel(\"Loss\")\n",
    "plt.xlabel('Epochs')\n",
    "plt.legend()\n",
    "plt.show()"
   ]
  },
  {
   "attachments": {},
   "cell_type": "markdown",
   "metadata": {},
   "source": [
    "### Saving a model in PyTorch\n",
    "\n",
    "Threre are three main methods you should about for saving and loading models in PyTorch.\n",
    "\n",
    "1. torch.save() - allows you save a PyTorch objects in Python's pickle format\n",
    "2. torch.load() - allows you load a saved PyTorch objects\n",
    "3. torch.nn.Module.load_state_dict() - This allow to load a model's saved state dictionary\n",
    "\n",
    "More information: https://pytorch.org/tutorials/beginner/saving_loading_models.html"
   ]
  },
  {
   "cell_type": "code",
   "execution_count": 22,
   "metadata": {},
   "outputs": [],
   "source": [
    "# Saving our PyTorch Model\n",
    "from pathlib import Path\n",
    "\n",
    "# 1. Create models directory\n",
    "MODEL_PATH = Path(\"models\")\n",
    "MODEL_PATH.mkdir(parents = True, exist_ok = True)\n",
    "\n",
    "\n",
    "# 2. Create model save path\n",
    "MODEL_NAME = '01_PyTorch_workflow_model_0.pth' # can use .pt or .pth\n",
    "MODEL_SAVE_PATH = MODEL_PATH / MODEL_NAME\n"
   ]
  },
  {
   "cell_type": "code",
   "execution_count": 23,
   "metadata": {},
   "outputs": [
    {
     "name": "stdout",
     "output_type": "stream",
     "text": [
      "Saving model to: models\\01_PyTorch_workflow_model_0.pth\n"
     ]
    }
   ],
   "source": [
    "# 3. Save the model state dict\n",
    "torch.save(obj = model_0.state_dict(), f = MODEL_SAVE_PATH)\n",
    "print(f'Saving model to: {MODEL_SAVE_PATH}')"
   ]
  },
  {
   "attachments": {},
   "cell_type": "markdown",
   "metadata": {},
   "source": [
    "### Loading a PyTorch model\n",
    "\n",
    "Since we saved our model's state_dict() rather the entire model, we'll create a new instance of our model class and load the saved *state_dict()* into that"
   ]
  },
  {
   "cell_type": "code",
   "execution_count": 24,
   "metadata": {},
   "outputs": [
    {
     "name": "stdout",
     "output_type": "stream",
     "text": [
      "Original model: OrderedDict([('weights', tensor([0.3367])), ('bias', tensor([0.1288]))])\n",
      "Update parameters model: OrderedDict([('weights', tensor([0.6990])), ('bias', tensor([0.3093]))])\n"
     ]
    }
   ],
   "source": [
    "# To load in a saved state_dict we have to instantiate a new instance of our model class\n",
    "loaded_model_0 = LinearRegressionModel()\n",
    "print(f'Original model: {loaded_model_0.state_dict()}')\n",
    "\n",
    "# Load the save state_dict of model_0 ( this will update the new instance with update parameter)\n",
    "loaded_model_0.load_state_dict(torch.load(f = MODEL_SAVE_PATH))\n",
    "print(f'Update parameters model: {loaded_model_0.state_dict()}')\n"
   ]
  },
  {
   "cell_type": "code",
   "execution_count": 25,
   "metadata": {},
   "outputs": [
    {
     "data": {
      "text/plain": [
       "tensor([[0.8685],\n",
       "        [0.8825],\n",
       "        [0.8965],\n",
       "        [0.9105],\n",
       "        [0.9245],\n",
       "        [0.9384],\n",
       "        [0.9524],\n",
       "        [0.9664],\n",
       "        [0.9804],\n",
       "        [0.9944]])"
      ]
     },
     "execution_count": 25,
     "metadata": {},
     "output_type": "execute_result"
    }
   ],
   "source": [
    "# Make some predictions with our loaded model\n",
    "loaded_model_0.eval()\n",
    "with torch.inference_mode():\n",
    "    loaded_model_predict = loaded_model_0(X_test)\n",
    "\n",
    "loaded_model_predict"
   ]
  },
  {
   "cell_type": "code",
   "execution_count": 26,
   "metadata": {},
   "outputs": [
    {
     "data": {
      "text/plain": [
       "tensor([[0.8685],\n",
       "        [0.8825],\n",
       "        [0.8965],\n",
       "        [0.9105],\n",
       "        [0.9245],\n",
       "        [0.9384],\n",
       "        [0.9524],\n",
       "        [0.9664],\n",
       "        [0.9804],\n",
       "        [0.9944]])"
      ]
     },
     "execution_count": 26,
     "metadata": {},
     "output_type": "execute_result"
    }
   ],
   "source": [
    "# Make some predict with original model\n",
    "model_0.eval()\n",
    "with torch.inference_mode():\n",
    "    original_model_predict = model_0(X_test)\n",
    "original_model_predict"
   ]
  },
  {
   "cell_type": "code",
   "execution_count": 27,
   "metadata": {},
   "outputs": [
    {
     "data": {
      "text/plain": [
       "tensor([[True],\n",
       "        [True],\n",
       "        [True],\n",
       "        [True],\n",
       "        [True],\n",
       "        [True],\n",
       "        [True],\n",
       "        [True],\n",
       "        [True],\n",
       "        [True]])"
      ]
     },
     "execution_count": 27,
     "metadata": {},
     "output_type": "execute_result"
    }
   ],
   "source": [
    "# Compare loaded model preds with original model preds\n",
    "loaded_model_predict == original_model_predict"
   ]
  },
  {
   "cell_type": "code",
   "execution_count": 31,
   "metadata": {},
   "outputs": [
    {
     "name": "stdout",
     "output_type": "stream",
     "text": [
      "OrderedDict([('weights', tensor([0.6990])), ('bias', tensor([0.3093]))])\n"
     ]
    }
   ],
   "source": [
    "# You can load model without based of structure class\n",
    "load_model_1 = torch.load(f = MODEL_SAVE_PATH)\n",
    "print(load_model_1)"
   ]
  },
  {
   "attachments": {},
   "cell_type": "markdown",
   "metadata": {},
   "source": [
    "### Putting it all together\n",
    "\n",
    "Let's go back through the steps above and see it all in one place"
   ]
  },
  {
   "cell_type": "code",
   "execution_count": 1,
   "metadata": {},
   "outputs": [],
   "source": [
    "import torch\n",
    "import numpy as np\n",
    "import matplotlib.pyplot as plt"
   ]
  },
  {
   "cell_type": "code",
   "execution_count": 2,
   "metadata": {},
   "outputs": [
    {
     "data": {
      "text/plain": [
       "'2.0.0'"
      ]
     },
     "execution_count": 2,
     "metadata": {},
     "output_type": "execute_result"
    }
   ],
   "source": [
    "torch.__version__"
   ]
  },
  {
   "attachments": {},
   "cell_type": "markdown",
   "metadata": {},
   "source": [
    "Create device-agonstic code. <br>\n",
    "This mean if we've got a GPU, we want our code to run on it, if not, we want it to run on a CPU."
   ]
  },
  {
   "cell_type": "code",
   "execution_count": 3,
   "metadata": {},
   "outputs": [
    {
     "name": "stdout",
     "output_type": "stream",
     "text": [
      "You have 1 GPU(s) available\n"
     ]
    }
   ],
   "source": [
    "# Setup device agnostic code\n",
    "device = 'cuda' if torch.cuda.is_available() else 'cpu'\n",
    "count_device = torch.cuda.device_count()\n",
    "print(f'You have {count_device} GPU(s) available')"
   ]
  },
  {
   "cell_type": "code",
   "execution_count": 4,
   "metadata": {},
   "outputs": [
    {
     "name": "stdout",
     "output_type": "stream",
     "text": [
      "Fri Jun  9 23:13:56 2023       \n",
      "+---------------------------------------------------------------------------------------+\n",
      "| NVIDIA-SMI 531.26                 Driver Version: 531.26       CUDA Version: 12.1     |\n",
      "|-----------------------------------------+----------------------+----------------------+\n",
      "| GPU  Name                      TCC/WDDM | Bus-Id        Disp.A | Volatile Uncorr. ECC |\n",
      "| Fan  Temp  Perf            Pwr:Usage/Cap|         Memory-Usage | GPU-Util  Compute M. |\n",
      "|                                         |                      |               MIG M. |\n",
      "|=========================================+======================+======================|\n",
      "|   0  NVIDIA GeForce RTX 3060 Ti    WDDM | 00000000:01:00.0  On |                  N/A |\n",
      "| 68%   37C    P8               24W / 140W|   1250MiB /  8192MiB |     46%      Default |\n",
      "|                                         |                      |                  N/A |\n",
      "+-----------------------------------------+----------------------+----------------------+\n",
      "                                                                                         \n",
      "+---------------------------------------------------------------------------------------+\n",
      "| Processes:                                                                            |\n",
      "|  GPU   GI   CI        PID   Type   Process name                            GPU Memory |\n",
      "|        ID   ID                                                             Usage      |\n",
      "|=======================================================================================|\n",
      "|    0   N/A  N/A      1644    C+G   ...\\cef\\cef.win7x64\\steamwebhelper.exe    N/A      |\n",
      "|    0   N/A  N/A      4320    C+G   ...GeForce Experience\\NVIDIA Share.exe    N/A      |\n",
      "|    0   N/A  N/A      4552    C+G   ...on\\114.0.1823.37\\msedgewebview2.exe    N/A      |\n",
      "|    0   N/A  N/A      4732    C+G   C:\\Windows\\explorer.exe                   N/A      |\n",
      "|    0   N/A  N/A      5156    C+G   ...GeForce Experience\\NVIDIA Share.exe    N/A      |\n",
      "|    0   N/A  N/A      6692    C+G   ...nt.CBS_cw5n1h2txyewy\\SearchHost.exe    N/A      |\n",
      "|    0   N/A  N/A      6740    C+G   ...2txyewy\\StartMenuExperienceHost.exe    N/A      |\n",
      "|    0   N/A  N/A      8860    C+G   ...siveControlPanel\\SystemSettings.exe    N/A      |\n",
      "|    0   N/A  N/A      9344    C+G   ...tionsPlus\\logioptionsplus_agent.exe    N/A      |\n",
      "|    0   N/A  N/A     10180    C+G   ...oogle\\Chrome\\Application\\chrome.exe    N/A      |\n",
      "|    0   N/A  N/A     16872    C+G   ...am Files\\Microsoft VS Code\\Code.exe    N/A      |\n",
      "|    0   N/A  N/A     17168    C+G   ...crosoft\\Edge\\Application\\msedge.exe    N/A      |\n",
      "|    0   N/A  N/A     17312    C+G   ...CBS_cw5n1h2txyewy\\TextInputHost.exe    N/A      |\n",
      "|    0   N/A  N/A     19036    C+G   ...on\\wallpaper_engine\\wallpaper32.exe    N/A      |\n",
      "|    0   N/A  N/A     19196    C+G   ...al\\Programs\\Messenger\\Messenger.exe    N/A      |\n",
      "|    0   N/A  N/A     19304    C+G   ...cal\\Microsoft\\OneDrive\\OneDrive.exe    N/A      |\n",
      "|    0   N/A  N/A     19548    C+G   ...3890_x64__8wekyb3d8bbwe\\msteams.exe    N/A      |\n",
      "|    0   N/A  N/A     19896    C+G   ...es (x86)\\Dropbox\\Client\\Dropbox.exe    N/A      |\n",
      "|    0   N/A  N/A     20264    C+G   ...on\\114.0.1823.37\\msedgewebview2.exe    N/A      |\n",
      "|    0   N/A  N/A     21392    C+G   ...les\\Glorious Core\\Glorious Core.exe    N/A      |\n",
      "+---------------------------------------------------------------------------------------+\n"
     ]
    }
   ],
   "source": [
    "!nvidia-smi"
   ]
  },
  {
   "cell_type": "code",
   "execution_count": 5,
   "metadata": {},
   "outputs": [
    {
     "name": "stdout",
     "output_type": "stream",
     "text": [
      "X: tensor([[0.0000],\n",
      "        [0.0200],\n",
      "        [0.0400],\n",
      "        [0.0600],\n",
      "        [0.0800],\n",
      "        [0.1000],\n",
      "        [0.1200],\n",
      "        [0.1400],\n",
      "        [0.1600],\n",
      "        [0.1800]])\n",
      " y: tensor([[0.3000],\n",
      "        [0.3140],\n",
      "        [0.3280],\n",
      "        [0.3420],\n",
      "        [0.3560],\n",
      "        [0.3700],\n",
      "        [0.3840],\n",
      "        [0.3980],\n",
      "        [0.4120],\n",
      "        [0.4260]])\n"
     ]
    }
   ],
   "source": [
    "# Create some data using the linear regression formula ( y = weights * X + bias )\n",
    "weights = 0.7\n",
    "bias = 0.3\n",
    "\n",
    "# Create range value\n",
    "start = 0\n",
    "end = 1\n",
    "step = 0.02\n",
    "\n",
    "# Create X and y ( features and labels )\n",
    "X = torch.arange(start = start, end = end, step = step).unsqueeze(dim = 1) # unsqueeze to keep the shape of X is (n, 1)\n",
    "y = weights * X + bias\n",
    "print(f'X: {X[:10]}\\n y: {y[:10]}')"
   ]
  },
  {
   "cell_type": "code",
   "execution_count": 6,
   "metadata": {},
   "outputs": [
    {
     "name": "stdout",
     "output_type": "stream",
     "text": [
      "X_train: torch.Size([40, 1]), y_train: torch.Size([40, 1])\n",
      "X_test: torch.Size([10, 1]), y_test: torch.Size([10, 1])\n"
     ]
    }
   ],
   "source": [
    "# Split data\n",
    "train_split = int(0.8 * len(X))\n",
    "X_train, y_train = X[:train_split], y[:train_split]\n",
    "X_test, y_test = X[train_split:], y[train_split:]\n",
    "print(f'X_train: {X_train.shape}, y_train: {y_train.shape}')\n",
    "print(f'X_test: {X_test.shape}, y_test: {y_test.shape}')"
   ]
  },
  {
   "cell_type": "code",
   "execution_count": 7,
   "metadata": {},
   "outputs": [],
   "source": [
    "def plot_prediction(train_data = X_train,\n",
    "                    train_labels = y_train,\n",
    "                    test_data = X_test,\n",
    "                    test_labels = y_test,\n",
    "                    predictions = None):\n",
    "    \"\"\"Plots training data, test data and compares predictions.\"\"\"\n",
    "\n",
    "    plt.figure(figsize = (10, 7))\n",
    "\n",
    "    # Plot training data in blue\n",
    "    plt.scatter(train_data, train_labels, c = 'b', s = 4, label = \"Training data\")\n",
    "\n",
    "    # Plot test data in green\n",
    "    plt.scatter(test_data, test_labels, c = 'g', s = 4, label = \"Testing data\")\n",
    "\n",
    "    # Are there prediction ?\n",
    "    if predictions is not None:\n",
    "        # Plot the prediction in they exist\n",
    "        plt.scatter(test_data, predictions, c = 'r', s = 4, label = \"Predictions\")\n",
    "\n",
    "    # Show the legend\n",
    "    plt.legend(prop = {\"size\" : 14})\n"
   ]
  },
  {
   "cell_type": "code",
   "execution_count": 8,
   "metadata": {},
   "outputs": [
    {
     "data": {
      "image/png": "[encoded data removed]",
      "text/plain": [
       "<Figure size 1000x700 with 1 Axes>"
      ]
     },
     "metadata": {},
     "output_type": "display_data"
    }
   ],
   "source": [
    "# plot data\n",
    "plot_prediction(X_train, y_train, X_test, y_test)"
   ]
  },
  {
   "attachments": {},
   "cell_type": "markdown",
   "metadata": {},
   "source": [
    "### Building PyTorch Linear model"
   ]
  },
  {
   "cell_type": "code",
   "execution_count": 9,
   "metadata": {},
   "outputs": [
    {
     "ename": "NameError",
     "evalue": "name 'nn' is not defined",
     "output_type": "error",
     "traceback": [
      "\u001b[1;31m---------------------------------------------------------------------------\u001b[0m",
      "\u001b[1;31mNameError\u001b[0m                                 Traceback (most recent call last)",
      "Cell \u001b[1;32mIn[9], line 2\u001b[0m\n\u001b[0;32m      1\u001b[0m \u001b[39m# Create a linear model by subclassing nn.Module\u001b[39;00m\n\u001b[1;32m----> 2\u001b[0m \u001b[39mclass\u001b[39;00m \u001b[39mLinearRegressionModelV2\u001b[39;00m(nn\u001b[39m.\u001b[39mModule):\n\u001b[0;32m      3\u001b[0m     \u001b[39mdef\u001b[39;00m \u001b[39m__init__\u001b[39m(\u001b[39mself\u001b[39m):\n\u001b[0;32m      4\u001b[0m         \u001b[39msuper\u001b[39m()\u001b[39m.\u001b[39m\u001b[39m__init__\u001b[39m()\n",
      "\u001b[1;31mNameError\u001b[0m: name 'nn' is not defined"
     ]
    }
   ],
   "source": [
    "from torch import nn\n",
    "# Create a linear model by subclassing nn.Module\n",
    "class LinearRegressionModelV2(nn.Module):\n",
    "    def __init__(self):\n",
    "        super().__init__()\n",
    "        # Use nn.Linear() for creating the model parameter / also called: linear transform, probing layer, fully connected layer\n",
    "        self.linear_layer = nn.Linear(in_features = 1, out_features = 1)\n",
    "\n",
    "    def forward(self, x: torch.Tensor) -> torch.Tensor:\n",
    "        return self.linear_layer(x)\n",
    "    \n",
    "# Set the manual seed\n",
    "torch.manual_seed(42)\n",
    "model_1 = LinearRegressionModelV2()\n",
    "model_1, model_1.state_dict()"
   ]
  },
  {
   "cell_type": "code",
   "execution_count": null,
   "metadata": {},
   "outputs": [],
   "source": []
  }
 ],
 "metadata": {
  "kernelspec": {
   "display_name": "ML",
   "language": "python",
   "name": "python3"
  },
  "language_info": {
   "codemirror_mode": {
    "name": "ipython",
    "version": 3
   },
   "file_extension": ".py",
   "mimetype": "text/x-python",
   "name": "python",
   "nbconvert_exporter": "python",
   "pygments_lexer": "ipython3",
   "version": "3.9.16"
  },
  "orig_nbformat": 4,
  "vscode": {
   "interpreter": {
    "hash": "e2354be089b306577d9e7f9157f1338c6f27d260a8dc4561be5719c44fb4fe8c"
   }
  }
 },
 "nbformat": 4,
 "nbformat_minor": 2
}
